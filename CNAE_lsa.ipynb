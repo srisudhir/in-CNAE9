{
 "cells": [
  {
   "cell_type": "code",
   "execution_count": 1,
   "metadata": {
    "collapsed": true
   },
   "outputs": [],
   "source": [
    "import pandas as pd"
   ]
  },
  {
   "cell_type": "code",
   "execution_count": 2,
   "metadata": {
    "collapsed": true
   },
   "outputs": [],
   "source": [
    "cnae = pd.read_csv('CNAE.csv')"
   ]
  },
  {
   "cell_type": "code",
   "execution_count": 3,
   "metadata": {
    "collapsed": true
   },
   "outputs": [],
   "source": [
    "from sklearn.feature_extraction.text import TfidfVectorizer\n",
    "Vectorizer = TfidfVectorizer()"
   ]
  },
  {
   "cell_type": "code",
   "execution_count": 4,
   "metadata": {
    "collapsed": true
   },
   "outputs": [],
   "source": [
    "X= Vectorizer.fit_transform(cnae)"
   ]
  },
  {
   "cell_type": "code",
   "execution_count": 5,
   "metadata": {},
   "outputs": [
    {
     "name": "stdout",
     "output_type": "stream",
     "text": [
      "  (0, 0)\t1.0\n",
      "  (1, 1)\t1.0\n",
      "  (2, 112)\t1.0\n",
      "  (3, 223)\t1.0\n",
      "  (4, 334)\t1.0\n",
      "  (5, 445)\t1.0\n",
      "  (6, 556)\t1.0\n",
      "  (7, 667)\t1.0\n",
      "  (8, 778)\t1.0\n",
      "  (9, 847)\t1.0\n",
      "  (10, 2)\t1.0\n",
      "  (11, 13)\t1.0\n",
      "  (12, 24)\t1.0\n",
      "  (13, 35)\t1.0\n",
      "  (14, 46)\t1.0\n",
      "  (15, 57)\t1.0\n",
      "  (16, 68)\t1.0\n",
      "  (17, 79)\t1.0\n",
      "  (18, 90)\t1.0\n",
      "  (19, 101)\t1.0\n",
      "  (20, 113)\t1.0\n",
      "  (21, 124)\t1.0\n",
      "  (22, 135)\t1.0\n",
      "  (23, 146)\t1.0\n",
      "  (24, 157)\t1.0\n",
      "  :\t:\n",
      "  (833, 816)\t1.0\n",
      "  (834, 817)\t1.0\n",
      "  (835, 818)\t1.0\n",
      "  (836, 819)\t1.0\n",
      "  (837, 820)\t1.0\n",
      "  (838, 821)\t1.0\n",
      "  (839, 822)\t1.0\n",
      "  (840, 824)\t1.0\n",
      "  (841, 825)\t1.0\n",
      "  (842, 826)\t1.0\n",
      "  (843, 827)\t1.0\n",
      "  (844, 828)\t1.0\n",
      "  (845, 829)\t1.0\n",
      "  (846, 830)\t1.0\n",
      "  (847, 831)\t1.0\n",
      "  (848, 832)\t1.0\n",
      "  (849, 833)\t1.0\n",
      "  (850, 835)\t1.0\n",
      "  (851, 836)\t1.0\n",
      "  (852, 837)\t1.0\n",
      "  (853, 838)\t1.0\n",
      "  (854, 839)\t1.0\n",
      "  (855, 840)\t1.0\n",
      "  (856, 841)\t1.0\n",
      "  (857, 842)\t1.0\n"
     ]
    }
   ],
   "source": [
    "print (X)"
   ]
  },
  {
   "cell_type": "code",
   "execution_count": 12,
   "metadata": {},
   "outputs": [
    {
     "data": {
      "text/plain": [
       "TruncatedSVD(algorithm='randomized', n_components=9, n_iter=100,\n",
       "       random_state=None, tol=0.0)"
      ]
     },
     "execution_count": 12,
     "metadata": {},
     "output_type": "execute_result"
    }
   ],
   "source": [
    "from sklearn.decomposition import TruncatedSVD\n",
    "lsa = TruncatedSVD(n_components = 9, n_iter = 100)\n",
    "lsa.fit(X)"
   ]
  },
  {
   "cell_type": "code",
   "execution_count": 13,
   "metadata": {},
   "outputs": [
    {
     "data": {
      "text/plain": [
       "858"
      ]
     },
     "execution_count": 13,
     "metadata": {},
     "output_type": "execute_result"
    }
   ],
   "source": [
    "terms = Vectorizer.get_feature_names()\n",
    "len(terms)"
   ]
  },
  {
   "cell_type": "code",
   "execution_count": 14,
   "metadata": {},
   "outputs": [
    {
     "name": "stdout",
     "output_type": "stream",
     "text": [
      "Concept 0:\n",
      "v829\n",
      "v358\n",
      "v852\n",
      "v389\n",
      "v83\n",
      "v502\n",
      "v445\n",
      "v330\n",
      "v268\n",
      " \n",
      "Concept 1:\n",
      "v728\n",
      "v234\n",
      "v745\n",
      "v132\n",
      "v595\n",
      "v5\n",
      "v60\n",
      "v713\n",
      "v397\n",
      " \n",
      "Concept 2:\n",
      "v254\n",
      "v599\n",
      "v202\n",
      "v86\n",
      "v751\n",
      "v716\n",
      "v627\n",
      "v370\n",
      "v153\n",
      " \n",
      "Concept 3:\n",
      "v474\n",
      "v138\n",
      "v288\n",
      "v131\n",
      "v819\n",
      "v717\n",
      "v24\n",
      "v229\n",
      "v677\n",
      " \n",
      "Concept 4:\n",
      "v822\n",
      "v478\n",
      "v405\n",
      "v791\n",
      "v120\n",
      "v606\n",
      "v304\n",
      "v700\n",
      "v301\n",
      " \n",
      "Concept 5:\n",
      "v484\n",
      "v568\n",
      "v279\n",
      "v840\n",
      "v595\n",
      "v50\n",
      "v41\n",
      "v316\n",
      "v206\n",
      " \n",
      "Concept 6:\n",
      "v852\n",
      "v763\n",
      "v651\n",
      "v129\n",
      "v550\n",
      "v774\n",
      "v241\n",
      "v80\n",
      "v599\n",
      " \n",
      "Concept 7:\n",
      "v111\n",
      "v720\n",
      "v279\n",
      "v658\n",
      "v555\n",
      "v337\n",
      "v157\n",
      "v95\n",
      "v618\n",
      " \n",
      "Concept 8:\n",
      "v522\n",
      "v778\n",
      "v673\n",
      "v2\n",
      "v56\n",
      "v341\n",
      "v707\n",
      "v214\n",
      "v507\n",
      " \n"
     ]
    }
   ],
   "source": [
    "for i,comp in enumerate(lsa.components_):\n",
    "    termsInComp = zip(terms,comp)\n",
    "    sortedterms = sorted(termsInComp, key=lambda x: x[1],reverse=True)[:9]\n",
    "    print(\"Concept %d:\" % i)\n",
    "    for term in sortedterms:\n",
    "        print(term[0])\n",
    "    print(\" \")"
   ]
  },
  {
   "cell_type": "code",
   "execution_count": null,
   "metadata": {
    "collapsed": true
   },
   "outputs": [],
   "source": []
  }
 ],
 "metadata": {
  "kernelspec": {
   "display_name": "Python 3",
   "language": "python",
   "name": "python3"
  },
  "language_info": {
   "codemirror_mode": {
    "name": "ipython",
    "version": 3
   },
   "file_extension": ".py",
   "mimetype": "text/x-python",
   "name": "python",
   "nbconvert_exporter": "python",
   "pygments_lexer": "ipython3",
   "version": "3.6.1"
  }
 },
 "nbformat": 4,
 "nbformat_minor": 2
}
